{
 "cells": [
  {
   "cell_type": "code",
   "execution_count": 12,
   "metadata": {},
   "outputs": [],
   "source": [
    "from datetime import datetime\n",
    "from typing import List, Optional\n",
    "\n",
    "class Persona:\n",
    "    list = []\n",
    "    \n",
    "    def __init__(self, nombre, contacto):\n",
    "        self.nom = nombre\n",
    "        self.cont = contacto\n",
    "    \n",
    "    def Registrar(self):\n",
    "        Persona.list.append(self)\n",
    "        print(f\" {self.nom}, con el contacto {self.cont}\")\n",
    "    \n",
    "    def actualizar_datos(self, nombre, correo):\n",
    "        self.nom = nombre\n",
    "        self.cont = correo\n",
    "        print(\"Los datos han sido actualizados\")\n",
    "    @classmethod\n",
    "    def personas_registradas(cls):\n",
    "        print(\"Personas registradas:\")\n",
    "        for persona in cls.list:\n",
    "            print(f\"- {persona.nom} - {persona.cont}\")"
   ]
  },
  {
   "cell_type": "code",
   "execution_count": 2,
   "metadata": {},
   "outputs": [],
   "source": [
    "class Usuario(Persona):\n",
    "    def __init__(self, nombre, contacto):\n",
    "        super().__init__(nombre, contacto)\n",
    "        self.reservas = []\n",
    "    \n",
    "    def hacer_reserva(self, funcion, asientos):\n",
    "        if funcion.verificar_disponibilidad(asientos):\n",
    "            reserva = Reserva(self, funcion, asientos)\n",
    "            self.reservas.append(reserva)\n",
    "            funcion.reservar_asientos(asientos)\n",
    "            print(f\"Reserva realizada para la función {funcion.movie.title} en los asientos {asientos}.\")\n",
    "        else:\n",
    "            print(\"No hay asientos disponibles para reserva.\")\n",
    "    \n",
    "    def cancelar_reserva(self, reserva):\n",
    "        if reserva in self.reservas:\n",
    "            self.reservas.remove(reserva)\n",
    "            reserva.funcion.liberar_asientos(reserva.asientos)\n",
    "            print(\"Reserva cancelada.\")\n",
    "        else:\n",
    "            print(\"Reserva no encontrada.\")\n"
   ]
  },
  {
   "cell_type": "code",
   "execution_count": 3,
   "metadata": {},
   "outputs": [],
   "source": [
    "class Empleado(Persona):\n",
    "    def __init__(self, nombre, contacto, rol):\n",
    "        super().__init__(nombre, contacto)\n",
    "        self.rol = rol\n",
    "    \n",
    "    def agregar_funcion(self, funcion, funciones):\n",
    "        funciones.append(funcion)\n",
    "        print(f\"Función {funcion.movie.title} agregada.\")\n",
    "    \n",
    "    def agregar_pelicula(self, pelicula, peliculas):\n",
    "        peliculas.append(pelicula)\n",
    "        print(f\"Película {pelicula.title} agregada.\")\n",
    "    \n",
    "    def agregar_promocion(self, promocion, promociones):\n",
    "        promociones.append(promocion)\n",
    "        print(f\"Promoción {promocion.codigo} agregada.\")"
   ]
  },
  {
   "cell_type": "code",
   "execution_count": 4,
   "metadata": {},
   "outputs": [],
   "source": [
    "class espacio:\n",
    "    def __init__(self, tamaño, identificador):\n",
    "        self.tam = tamaño\n",
    "        self.id = identificador\n",
    "    \n",
    "    def descripcion(self):\n",
    "        print(f\"La sala mide {self.tam}, se identifica con {self.id}\")"
   ]
  },
  {
   "cell_type": "code",
   "execution_count": 5,
   "metadata": {},
   "outputs": [],
   "source": [
    "class Sala(espacio):\n",
    "    def __init__(self, tamaño, identificador, tipo):\n",
    "        super().__init__(tamaño, identificador)\n",
    "        self.tipo = tipo\n",
    "        self.asientos_ocupados = []\n",
    "    \n",
    "    def verificar_disponibilidad(self, asientos):\n",
    "        return all(asiento not in self.asientos_ocupados for asiento in asientos)\n",
    "    \n",
    "    def reservar_asientos(self, asientos):\n",
    "        self.asientos_ocupados.extend(asientos)\n",
    "    \n",
    "    def liberar_asientos(self, asientos):\n",
    "        for asiento in asientos:\n",
    "            if asiento in self.asientos_ocupados:\n",
    "                self.asientos_ocupados.remove(asiento)\n",
    "    \n",
    "    def consultar_disponibilidad(self):\n",
    "        if self.verificar_disponibilidad(range(1, self.tam + 1)):\n",
    "            print(\"La sala está disponible.\")\n",
    "        else:\n",
    "            print(\"La sala no está disponible.\")"
   ]
  },
  {
   "cell_type": "code",
   "execution_count": 6,
   "metadata": {},
   "outputs": [],
   "source": [
    "class zona_de_comida(espacio):\n",
    "    menu = []\n",
    "    \n",
    "    def __init__(self, tamaño, identificador, productos, precios):\n",
    "        super().__init__(tamaño, identificador)\n",
    "        self.product = productos\n",
    "        self.price = precios\n",
    "    \n",
    "    def agregar_al_menu(self):\n",
    "        zona_de_comida.menu.append(self)\n",
    "        print(f\"En el menú tenemos {self.product} a {self.price}\")"
   ]
  },
  {
   "cell_type": "code",
   "execution_count": 7,
   "metadata": {},
   "outputs": [],
   "source": [
    "\n",
    "class Pelicula:\n",
    "    def __init__(self, titulo, duracion, clasificacion, genero):\n",
    "        self.title = titulo\n",
    "        self.dur = duracion\n",
    "        self.clas = clasificacion\n",
    "        self.gen = genero\n",
    "    \n",
    "    def detalles(self):\n",
    "        print(f\"La película {self.title}, con duración de {self.dur}, clasificación {self.clas}, es {self.gen}\")"
   ]
  },
  {
   "cell_type": "code",
   "execution_count": 8,
   "metadata": {},
   "outputs": [],
   "source": [
    "class Funcion:\n",
    "    def __init__(self, hora, sala, pelicula):\n",
    "        self.hora = hora\n",
    "        self.sala = sala\n",
    "        self.movie = pelicula\n",
    "    \n",
    "    def verificar_disponibilidad(self, asientos):\n",
    "        return self.sala.verificar_disponibilidad(asientos)\n",
    "    \n",
    "    def reservar_asientos(self, asientos):\n",
    "        self.sala.reservar_asientos(asientos)\n",
    "    \n",
    "    def liberar_asientos(self, asientos):\n",
    "        self.sala.liberar_asientos(asientos)"
   ]
  },
  {
   "cell_type": "code",
   "execution_count": 9,
   "metadata": {},
   "outputs": [],
   "source": [
    "\n",
    "class Reserva:\n",
    "    def __init__(self, usuario, funcion, asientos):\n",
    "        self.usuario = usuario\n",
    "        self.funcion = funcion\n",
    "        self.asientos = asientos\n",
    "    \n",
    "    def confirmar_reserva(self):\n",
    "        print(f\"Su reserva ha sido confirmada para la función {self.funcion.movie.title} en los asientos {self.asientos}.\")\n",
    "    \n",
    "    def cancelar_reserva(self):\n",
    "        self.usuario.cancelar_reserva(self)"
   ]
  },
  {
   "cell_type": "code",
   "execution_count": 10,
   "metadata": {},
   "outputs": [],
   "source": [
    "class Promocion:\n",
    "    def __init__(self, codigo, descuento, valido_hasta):\n",
    "        self.codigo = codigo\n",
    "        self.descuento = descuento\n",
    "        self.valido_hasta = valido_hasta\n",
    "    \n",
    "    def aplicar_descuento(self, precio):\n",
    "        return precio * (1 - self.descuento)"
   ]
  },
  {
   "cell_type": "code",
   "execution_count": 13,
   "metadata": {},
   "outputs": [
    {
     "name": "stdout",
     "output_type": "stream",
     "text": [
      " Sebastián, con el contacto risegalo@gmail.com\n",
      " Axel, con el contacto ax3ltl@gmail.com\n",
      "Reserva realizada para la función Inception en los asientos [1, 2, 3].\n",
      "Función Inception agregada.\n",
      "Película Inception agregada.\n",
      "Promoción DESC10 agregada.\n",
      "Personas registradas:\n",
      "- Sebastián - risegalo@gmail.com\n",
      "- Axel - ax3ltl@gmail.com\n"
     ]
    }
   ],
   "source": [
    "p1 = Persona(\"Sebastián\", \"risegalo@gmail.com\")\n",
    "p2 = Persona(\"Axel\", \"ax3ltl@gmail.com\")\n",
    "p1.Registrar()\n",
    "p2.Registrar()\n",
    "\n",
    "sala_imax = Sala(100, \"Sala IMAX\", \"IMAX\")\n",
    "pelicula = Pelicula(\"Inception\", 148, \"PG-13\", \"Ciencia Ficción\")\n",
    "funcion = Funcion(datetime(2023, 10, 15, 20, 0), sala_imax, pelicula)\n",
    "\n",
    "usuario = Usuario(\"Juan\", \"juan@example.com\")\n",
    "usuario.hacer_reserva(funcion, [1, 2, 3])\n",
    "\n",
    "empleado = Empleado(\"Maria\", \"maria@example.com\", \"Taquillero\")\n",
    "empleado.agregar_funcion(funcion, [])\n",
    "empleado.agregar_pelicula(pelicula, [])\n",
    "\n",
    "promocion = Promocion(\"DESC10\", 0.1, datetime(2023, 10, 20))\n",
    "empleado.agregar_promocion(promocion, [])\n",
    "\n",
    "Persona.personas_registradas()"
   ]
  }
 ],
 "metadata": {
  "kernelspec": {
   "display_name": "Python 3",
   "language": "python",
   "name": "python3"
  },
  "language_info": {
   "codemirror_mode": {
    "name": "ipython",
    "version": 3
   },
   "file_extension": ".py",
   "mimetype": "text/x-python",
   "name": "python",
   "nbconvert_exporter": "python",
   "pygments_lexer": "ipython3",
   "version": "3.11.9"
  }
 },
 "nbformat": 4,
 "nbformat_minor": 2
}
