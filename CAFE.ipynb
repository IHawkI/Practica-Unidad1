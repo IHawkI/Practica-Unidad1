{
 "cells": [
  {
   "cell_type": "code",
   "execution_count": 6,
   "metadata": {},
   "outputs": [],
   "source": [
    "from typing import List, Optional\n",
    "class Persona:\n",
    "    def __init__ (self,nombre,contacto,):\n",
    "        self.nom=nombre\n",
    "        self.con=contacto\n",
    "        "
   ]
  },
  {
   "cell_type": "code",
   "execution_count": 32,
   "metadata": {},
   "outputs": [],
   "source": [
    "class Cliente(Persona):\n",
    "    def __init__(self, nombre, contacto):\n",
    "        super().__init__(nombre, contacto)\n",
    "        self.historial_pedidos = []\n",
    "\n",
    "    def realizar_pedido(self, pedido):\n",
    "        self.historial_pedidos.append(pedido)\n",
    "        print(f\"Pedido realizado por {self.nom}: {pedido}\")\n",
    "\n",
    "    def consultar_historial(self):\n",
    "        return self.historial_pedidos\n"
   ]
  },
  {
   "cell_type": "code",
   "execution_count": 18,
   "metadata": {},
   "outputs": [],
   "source": [
    "class Empleado(Persona):\n",
    "    def __init__(self, nombre, identificacion, rol):\n",
    "        super().__init__(nombre, identificacion)\n",
    "        self.rol = rol\n",
    "\n",
    "    def actualizar_inventario(self, inventario, ingrediente, cantidad):\n",
    "        inventario.actualizar_stock(ingrediente, cantidad)\n",
    "        print(f\"Inventario actualizado por {self.nom}: {ingrediente} -> {cantidad}\")"
   ]
  },
  {
   "cell_type": "code",
   "execution_count": 9,
   "metadata": {},
   "outputs": [],
   "source": [
    "class ProductoBase:\n",
    "    def __init__(self, nombre, precio):\n",
    "        self.nombre = nombre\n",
    "        self.precio = precio"
   ]
  },
  {
   "cell_type": "code",
   "execution_count": 10,
   "metadata": {},
   "outputs": [],
   "source": [
    "class Bebida(ProductoBase):\n",
    "    def __init__(self, nombre, precio, tamaño, tipo, personalizaciones=None):\n",
    "        super().__init__(nombre, precio)\n",
    "        self.tamaño = tamaño\n",
    "        self.tipo = tipo\n",
    "        self.personalizaciones = personalizaciones if personalizaciones else []\n",
    "\n",
    "    def agregar_personalizacion(self, personalizacion):\n",
    "        self.personalizaciones.append(personalizacion)\n",
    "                "
   ]
  },
  {
   "cell_type": "code",
   "execution_count": 11,
   "metadata": {},
   "outputs": [],
   "source": [
    "class Postre(ProductoBase):\n",
    "    def __init__(self, nombre, precio, vegano=False, sgluten=False):\n",
    "        self.nom=nombre\n",
    "        self.price=precio\n",
    "        self.veg=vegano\n",
    "        self.glu=sgluten\n",
    "    def __str__(self):\n",
    "        esvegano= \"es vegano\" if self.veg else \"No es vegano\"\n",
    "        sin_gluten=\"sin gluten\" if self.glu else \"Con gluten\"\n",
    "        return f\"el postre es {self.nom} el precio es ${self.price} {esvegano} y {sin_gluten}\"     "
   ]
  },
  {
   "cell_type": "code",
   "execution_count": 12,
   "metadata": {},
   "outputs": [
    {
     "name": "stdout",
     "output_type": "stream",
     "text": [
      "el postre es Tarta de chocolate el precio es $7.5 es vegano y sin gluten\n"
     ]
    }
   ],
   "source": [
    "postre1 = Postre(\"Tarta de chocolate\", 7.5, vegano=True, sgluten=True)\n",
    "postre2 = Postre(\"Cheesecake\", 6.0, vegano=False, sgluten=False)\n",
    "postre3 = Postre(\"Muffin de arándanos\", 4.5, vegano=False, sgluten=True)\n",
    "print(postre1)"
   ]
  },
  {
   "cell_type": "code",
   "execution_count": 13,
   "metadata": {},
   "outputs": [],
   "source": [
    "class Inventario:\n",
    "    def __init__(self):\n",
    "        self.stock = {}\n",
    "\n",
    "    def agregar_ingrediente(self, ingrediente, cantidad):\n",
    "        self.stock[ingrediente] = cantidad\n",
    "\n",
    "    def actualizar_stock(self, ingrediente, cantidad):\n",
    "        if ingrediente in self.stock:\n",
    "            self.stock[ingrediente] += cantidad\n",
    "        else:\n",
    "            self.stock[ingrediente] = cantidad\n",
    "\n",
    "    def verificar_stock(self, ingrediente, cantidad):\n",
    "        return self.stock.get(ingrediente, 0) >= cantidad\n",
    "    \n",
    "              "
   ]
  },
  {
   "cell_type": "code",
   "execution_count": 36,
   "metadata": {},
   "outputs": [],
   "source": [
    "class Pedido:\n",
    "    def __init__(self,client):\n",
    "        self.cliente=client\n",
    "        self.prod=[]\n",
    "        self.estado=\"pendiente\"\n",
    "        self.total=0\n",
    "    def agregar_productos(self, producto):\n",
    "          self.prod.append(producto)\n",
    "          self.total+=producto.precio\n",
    "          print(f\"Producto agregado al pedido: {producto.nombre}\")\n",
    "    def calcular_total(self):\n",
    "        return self.total\n",
    "    def cambiar_estado(self, nuevo_estado):\n",
    "        self.estado=nuevo_estado\n",
    "        print(f\"Estado del pedido cambiado a: {self.estado}\")\n",
    "    def __str__(self):\n",
    "        return f\"Pedido con {len(self.prod)} productos, Estado: {self.estado}\"\n",
    "\n",
    "    "
   ]
  },
  {
   "cell_type": "code",
   "execution_count": 15,
   "metadata": {},
   "outputs": [],
   "source": [
    "class Promocion:\n",
    "    def __init__(self,descuento,condicion):\n",
    "        self.desc=descuento\n",
    "        self.cond=condicion\n",
    "    def aplicar_descuento(self,pedido):\n",
    "        if self.cond(pedido):\n",
    "            pedido.total -= self.descuento \n",
    "            print(f\"descuento aplicado:{self.desc}\")\n",
    "                \n",
    "        "
   ]
  },
  {
   "cell_type": "code",
   "execution_count": 37,
   "metadata": {},
   "outputs": [
    {
     "name": "stdout",
     "output_type": "stream",
     "text": [
      "Producto agregado al pedido: Café con leche\n",
      "Pedido realizado por Juan: Pedido con 1 productos, Estado: pendiente\n",
      "Estado del pedido cambiado a: en preparación\n",
      "Total del pedido: 5.0\n"
     ]
    }
   ],
   "source": [
    "inventario = Inventario()\n",
    "inventario.agregar_ingrediente(\"leche de almendra\", 10)\n",
    "inventario.agregar_ingrediente(\"azúcar\", 20)\n",
    "\n",
    "cliente = Cliente(\"Juan\", \"12345\")\n",
    "empleado = Empleado(\"Maria\", \"67890\", \"barista\")\n",
    "\n",
    "bebida = Bebida(\"Café con leche\", 5.0, \"grande\", \"caliente\")\n",
    "bebida.agregar_personalizacion(\"leche de almendra\")\n",
    "bebida.agregar_personalizacion(\"sin azúcar\")\n",
    "\n",
    "pedido = Pedido(cliente)\n",
    "pedido.agregar_productos(bebida)\n",
    "\n",
    "if inventario.verificar_stock(\"leche de almendra\", 1) and inventario.verificar_stock(\"azúcar\", 0):\n",
    "    cliente.realizar_pedido(pedido)\n",
    "    pedido.cambiar_estado(\"en preparación\")\n",
    "else:\n",
    "    print(\"No hay suficiente stock para realizar el pedido\")\n",
    "\n",
    "promocion = Promocion(1.0, lambda p: len(p.cliente.historial_pedidos) >= 5)\n",
    "promocion.aplicar_descuento(pedido)\n",
    "\n",
    "print(f\"Total del pedido: {pedido.calcular_total()}\")\n"
   ]
  }
 ],
 "metadata": {
  "kernelspec": {
   "display_name": "Python 3",
   "language": "python",
   "name": "python3"
  },
  "language_info": {
   "codemirror_mode": {
    "name": "ipython",
    "version": 3
   },
   "file_extension": ".py",
   "mimetype": "text/x-python",
   "name": "python",
   "nbconvert_exporter": "python",
   "pygments_lexer": "ipython3",
   "version": "3.11.9"
  }
 },
 "nbformat": 4,
 "nbformat_minor": 2
}
