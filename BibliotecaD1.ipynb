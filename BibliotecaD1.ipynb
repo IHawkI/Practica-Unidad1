{
 "cells": [
  {
   "cell_type": "code",
   "execution_count": null,
   "metadata": {},
   "outputs": [],
   "source": [
    "class Material:\n",
    "    def __init__(self, titulo, estado=\"disponible\"):\n",
    "        self.titulo = titulo\n",
    "        self.estado = estado  \n",
    "\n",
    "    def __str__(self):\n",
    "        return f\"{self.titulo} ({self.estado})\"\n",
    "\n",
    "    def __repr__(self):\n",
    "        return f\"Material: {self.titulo}, Estado: {self.estado}\"\n",
    "\n"
   ]
  },
  {
   "cell_type": "code",
   "execution_count": null,
   "metadata": {},
   "outputs": [],
   "source": [
    "class Revista(Material):\n",
    "    def __init__(self, titulo, edicion, periodicidad, estado=\"disponible\"):\n",
    "        super().__init__(titulo, estado)\n",
    "        self.edicion = edicion\n",
    "        self.periodicidad = periodicidad\n",
    "\n",
    "    def __str__(self):\n",
    "        return f\"Revista: {self.titulo}, Edición: {self.edicion}, Periodicidad: {self.periodicidad}, Estado: {self.estado}\""
   ]
  },
  {
   "cell_type": "code",
   "execution_count": null,
   "metadata": {},
   "outputs": [],
   "source": [
    "class Libro(Material):\n",
    "    def __init__(self, titulo, autor, genero, estado=\"disponible\"):\n",
    "        super().__init__(titulo, estado)\n",
    "        self.autor = autor\n",
    "        self.genero = genero\n",
    "\n",
    "    def __str__(self):\n",
    "        return f\"Libro: {self.titulo}, Autor: {self.autor}, Género: {self.genero}, Estado: {self.estado}\""
   ]
  },
  {
   "cell_type": "code",
   "execution_count": null,
   "metadata": {},
   "outputs": [],
   "source": [
    "class MaterialDigital(Material):\n",
    "    def __init__(self, titulo, tipo_archivo, enlace_descarga, estado=\"disponible\"):\n",
    "        super().__init__(titulo, estado)\n",
    "        self.tipo_archivo = tipo_archivo\n",
    "        self.enlace_descarga = enlace_descarga\n",
    "    def __str__(self):\n",
    "        return f\"Material Digital: {self.titulo}, Tipo: {self.tipo_archivo}, Enlace: {self.enlace_descarga}, Estado: {self.estado}\"  "
   ]
  },
  {
   "cell_type": "code",
   "execution_count": null,
   "metadata": {},
   "outputs": [],
   "source": [
    "class Persona:\n",
    "    def __init__(self, nombre):\n",
    "        self.nombre = nombre\n",
    "\n",
    "    def __str__(self):\n",
    "        return self.nombre"
   ]
  },
  {
   "cell_type": "code",
   "execution_count": null,
   "metadata": {},
   "outputs": [],
   "source": [
    "class Usuario(Persona):\n",
    "    def __init__(self, nombre):\n",
    "        super().__init__(nombre)\n",
    "        self.prestamos = []  \n",
    "        self.penalizaciones = 0  \n",
    "\n",
    "    def consultar_catalogo(self, catalogo):\n",
    "        return catalogo.mostrar_materiales()    \n",
    "\n",
    "    def __str__(self):\n",
    "        return f\"Usuario: {self.nombre}, Préstamos activos: {len(self.prestamos)}, Multas: {self.penalizaciones}\"\n",
    " "
   ]
  },
  {
   "cell_type": "code",
   "execution_count": null,
   "metadata": {},
   "outputs": [],
   "source": [
    "class Sucursal:\n",
    "    def __init__(self, nombre):\n",
    "        self.nombre = nombre\n",
    "        self.catalogo = []\n",
    "\n",
    "    def agregar_material(self, material):\n",
    "        self.catalogo.append(material)\n",
    "\n",
    "    def remover_material(self, material):\n",
    "        if material in self.catalogo:\n",
    "            self.catalogo.remove(material)\n",
    "            return True\n",
    "        return False\n",
    "\n",
    "    def buscar_material(self, titulo):\n",
    "        return next((m for m in self.catalogo if m.titulo == titulo), None)\n",
    "\n",
    "    def __str__(self):\n",
    "        return f\"Sucursal: {self.nombre}, Materiales disponibles: {len(self.catalogo)}\""
   ]
  },
  {
   "cell_type": "code",
   "execution_count": 36,
   "metadata": {},
   "outputs": [],
   "source": [
    "from datetime import datetime, timedelta\n",
    "class Prestamo:\n",
    "    def __init__(self, usuario, material, dias_prestamo=7):\n",
    "        self.usuario = usuario\n",
    "        self.material = material\n",
    "        self.fecha_prestamo = datetime.now()\n",
    "        self.fecha_devolucion = self.fecha_prestamo + timedelta(days=dias_prestamo)\n",
    "        material.estado = \"prestado\"\n",
    "\n",
    "    def devolver(self):\n",
    "        if datetime.now() > self.fecha_devolucion:\n",
    "            dias_atraso = (datetime.now() - self.fecha_devolucion).days\n",
    "            monto_multa = dias_atraso * 10  # Multa de 10 por día de atraso\n",
    "            penalizacion.aplicar_multa(self.usuario, monto_multa)\n",
    "            self.usuario.penalizaciones += monto_multa\n",
    "        self.material.estado = \"disponible\"\n",
    "        return \"Material devuelto\"\n",
    "\n",
    "    def __str__(self):\n",
    "        return f\"Préstamo: {self.material.titulo}, Usuario: {self.usuario.nombre}, Fecha de devolución: {self.fecha_devolucion}\""
   ]
  },
  {
   "cell_type": "code",
   "execution_count": null,
   "metadata": {},
   "outputs": [],
   "source": [
    "class Bibliotecario(Persona):\n",
    "    def __init__(self, nombre):\n",
    "        super().__init__(nombre)\n",
    "\n",
    "    def agregar_material(self, sucursal, material):\n",
    "        sucursal.agregar_material(material)\n",
    "\n",
    "    def gestionar_prestamo(self, usuario, material, sucursal):\n",
    "        if material.estado == \"disponible\":\n",
    "            prestamo = Prestamo(usuario, material)\n",
    "            usuario.prestamos.append(prestamo)\n",
    "            sucursal.remover_material(material)\n",
    "            return f\"Préstamo realizado: {material.titulo}\"\n",
    "        return \"Material no disponible\"\n",
    "\n",
    "    def transferir_material(self, material, sucursal_origen, sucursal_destino):\n",
    "        if material in sucursal_origen.catalogo:\n",
    "            sucursal_origen.remover_material(material)\n",
    "            sucursal_destino.agregar_material(material)\n",
    "            return f\"Material {material.titulo} transferido a {sucursal_destino.nombre}\"\n",
    "        return \"Material no encontrado en la sucursal origen\""
   ]
  },
  {
   "cell_type": "code",
   "execution_count": null,
   "metadata": {},
   "outputs": [],
   "source": [
    "class Penalizacion:\n",
    "    def __init__(self):\n",
    "        self.registro = {}  # Almacena multas por usuario\n",
    "\n",
    "    def aplicar_multa(self, usuario, monto):\n",
    "        if usuario not in self.registro:\n",
    "            self.registro[usuario] = 0\n",
    "        self.registro[usuario] += monto\n",
    "\n",
    "    def consultar_multa(self, usuario):\n",
    "        return self.registro.get(usuario, 0)\n",
    "\n",
    "    def __str__(self):\n",
    "        return f\"Registro de multas: {self.registro}\"\n"
   ]
  },
  {
   "cell_type": "code",
   "execution_count": 24,
   "metadata": {},
   "outputs": [],
   "source": [
    "class Catalogo:\n",
    "    def __init__(self):\n",
    "        self.materiales = []\n",
    "\n",
    "    def agregar_material(self, material):\n",
    "        self.materiales.append(material)\n",
    "\n",
    "    def buscar_por_titulo(self, titulo):\n",
    "        return [m for m in self.materiales if titulo.lower() in m.titulo.lower()]"
   ]
  },
  {
   "cell_type": "code",
   "execution_count": 42,
   "metadata": {},
   "outputs": [
    {
     "name": "stdout",
     "output_type": "stream",
     "text": [
      "Material Metamorfosis transferido a Norte\n",
      "Préstamo realizado: National Geographic\n",
      "Sucursal Central: Sucursal: Central, Materiales disponibles: 0\n",
      "Sucursal Norte: Sucursal: Norte, Materiales disponibles: 1\n",
      "Usuario: Usuario: Frederico zechinelli, Préstamos activos: 1, Multas: 0\n",
      "Préstamos activos de Frederico zechinelli:\n",
      "  - Préstamo: National Geographic, Usuario: Frederico zechinelli, Fecha de devolución: 2025-02-19 14:19:27.283855\n",
      "Multas acumuladas por Frederico zechinelli: 0\n"
     ]
    }
   ],
   "source": [
    "\n",
    "penalizacion = Penalizacion()\n",
    "sucursal_central = Sucursal(\"Central\")\n",
    "sucursal_norte = Sucursal(\"Norte\")\n",
    "\n",
    "libro1 = Libro(\"Metamorfosis\", \"Franz Kafka\", \"Existencialista\")\n",
    "revista1 = Revista(\"National Geographic\", \"Edición 2024\", \"mensual\")\n",
    "\n",
    "usuario1 = Usuario(\"Frederico zechinelli\")\n",
    "bibliotecario1 = Bibliotecario(\"Ana Lopezz\")\n",
    "bibliotecario1.agregar_material(sucursal_central, libro1)\n",
    "bibliotecario1.agregar_material(sucursal_central, revista1)\n",
    "print(bibliotecario1.transferir_material(libro1, sucursal_central, sucursal_norte))\n",
    "print(bibliotecario1.gestionar_prestamo(usuario1, revista1, sucursal_central))\n",
    "\n",
    "\n",
    "print(f\"Sucursal Central: {sucursal_central}\")\n",
    "print(f\"Sucursal Norte: {sucursal_norte}\")\n",
    "print(f\"Usuario: {usuario1}\")\n",
    "print(f\"Préstamos activos de {usuario1.nombre}:\")\n",
    "for prestamo in usuario1.prestamos:\n",
    "    print(f\"  - {prestamo}\")\n",
    "print(f\"Multas acumuladas por {usuario1.nombre}: {penalizacion.consultar_multa(usuario1)}\")\n",
    "\n",
    "  "
   ]
  }
 ],
 "metadata": {
  "kernelspec": {
   "display_name": "Python 3",
   "language": "python",
   "name": "python3"
  },
  "language_info": {
   "codemirror_mode": {
    "name": "ipython",
    "version": 3
   },
   "file_extension": ".py",
   "mimetype": "text/x-python",
   "name": "python",
   "nbconvert_exporter": "python",
   "pygments_lexer": "ipython3",
   "version": "3.11.9"
  }
 },
 "nbformat": 4,
 "nbformat_minor": 2
}
